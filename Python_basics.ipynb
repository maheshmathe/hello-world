{
  "nbformat": 4,
  "nbformat_minor": 0,
  "metadata": {
    "colab": {
      "name": "Python_basics.ipynb",
      "provenance": [],
      "authorship_tag": "ABX9TyOM+/NjwmlN9XMy9Ts6YPEH",
      "include_colab_link": true
    },
    "kernelspec": {
      "name": "python3",
      "display_name": "Python 3"
    },
    "language_info": {
      "name": "python"
    }
  },
  "cells": [
    {
      "cell_type": "markdown",
      "metadata": {
        "id": "view-in-github",
        "colab_type": "text"
      },
      "source": [
        "<a href=\"https://colab.research.google.com/github/maheshmathe/hello-world/blob/master/Python_basics.ipynb\" target=\"_parent\"><img src=\"https://colab.research.google.com/assets/colab-badge.svg\" alt=\"Open In Colab\"/></a>"
      ]
    },
    {
      "cell_type": "code",
      "metadata": {
        "colab": {
          "base_uri": "https://localhost:8080/"
        },
        "id": "iXFuMIARGI-R",
        "outputId": "7dd8fc23-6b47-42a4-e380-1cad7ab78e51"
      },
      "source": [
        "#single object types\n",
        "x = 10        #int\n",
        "y = 15.5      #float\n",
        "z = \"string\"  #string \n",
        "a = True      #bool\n",
        "b = 3 + 2j    #complex\n",
        "print(type(x))\n",
        "print(type(y))\n",
        "print(type(z))\n",
        "print(type(a))\n",
        "print(type(b))\n",
        "\n",
        "#multiobject types\n",
        "m = [1, 2, 3, '4']  #list - mutable container\n",
        "n = (3,5, 4, '5')   #tuple - immutable container\n",
        "o = set([6, 7, 8, '9'])  #set - unordered list of unique objects\n",
        "p = {'1':a,'2':2}        #dict - container with a key that labels a value object\n",
        "print(type(m))\n",
        "print(type(n))\n",
        "print(type(o))\n",
        "print(type(p))"
      ],
      "execution_count": 7,
      "outputs": [
        {
          "output_type": "stream",
          "text": [
            "<class 'int'>\n",
            "<class 'float'>\n",
            "<class 'str'>\n",
            "<class 'bool'>\n",
            "<class 'complex'>\n",
            "<class 'list'>\n",
            "<class 'tuple'>\n",
            "<class 'set'>\n",
            "<class 'dict'>\n"
          ],
          "name": "stdout"
        }
      ]
    },
    {
      "cell_type": "markdown",
      "metadata": {
        "id": "8FxuTMMJP9Fd"
      },
      "source": [
        "What is the meaning of floor division? modulo? xor? lshift? rshift?"
      ]
    },
    {
      "cell_type": "code",
      "metadata": {
        "colab": {
          "base_uri": "https://localhost:8080/"
        },
        "id": "Fp60T-DZHkd4",
        "outputId": "9c2fec81-145b-46b1-acd3-133b8f6bc303"
      },
      "source": [
        "x = 5 \n",
        "y = 2\n",
        "#simple arithmetic operations \n",
        "print(\"x plus y equals %f\"%(x + y))\n",
        "print(\"x minus y equals %f\"%(x - y))\n",
        "print(\"x multiplied by y equals %f\"%(x * y))\n",
        "print(\"x divided by y equals %f\"%(x / y))\n",
        "\n",
        "print(\"y to the power x = %f\"%(y ** x))\n",
        "print(\"x floor division by y = %f\"%(x // y))\n",
        "print(\"x modulo y = %f\"%(x % y)) \n",
        "\n",
        "print(\"x bitwise or y = %f\"%(x | y))\n",
        "print(\"x bitwise and y = %f\"%(x & y))\n",
        "print(\"x bitwise xor y = %f\"%(x ^ y))\n",
        "print(\"x bitwise lshift y = %f\"%(x << y))\n",
        "print(\"x biteise rshift y = %f\"%(x >> y))"
      ],
      "execution_count": 12,
      "outputs": [
        {
          "output_type": "stream",
          "text": [
            "x plus y equals 7.000000\n",
            "x minus y equals 3.000000\n",
            "x multiplied by y equals 10.000000\n",
            "x divided by y equals 2.500000\n",
            "y to the power x = 32.000000\n",
            "x floor division by y = 2.000000\n",
            "x modulo y = 1.000000\n",
            "x bitwise or y = 7.000000\n",
            "x bitwise and y = 0.000000\n",
            "x bitwise xor y = 7.000000\n",
            "x bitwise lshift y = 20.000000\n",
            "x biteise rshift y = 1.000000\n"
          ],
          "name": "stdout"
        }
      ]
    },
    {
      "cell_type": "markdown",
      "metadata": {
        "id": "T0LfHFxCPuea"
      },
      "source": [
        "Working with strings - when is ' ' or \"\" is used to denote a string?"
      ]
    },
    {
      "cell_type": "code",
      "metadata": {
        "id": "hDb6euiQOSsS"
      },
      "source": [
        "test_string = 'im a test string'\n",
        "\n",
        "print(test_string.split())\n",
        "print(test_string.join())"
      ],
      "execution_count": null,
      "outputs": []
    }
  ]
}